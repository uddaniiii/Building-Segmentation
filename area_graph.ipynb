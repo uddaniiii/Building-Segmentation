{
  "cells": [
    {
      "cell_type": "markdown",
      "metadata": {},
      "source": [
        "## Import"
      ]
    },
    {
      "cell_type": "code",
      "execution_count": 28,
      "metadata": {},
      "outputs": [],
      "source": [
        "import cv2\n",
        "import os\n",
        "import matplotlib.pyplot as plt\n",
        "from tqdm import tqdm\n",
        "import shutil\n",
        "import numpy as np\n",
        "import csv\n",
        "import pandas as pd\n",
        "from PIL import Image"
      ]
    },
    {
      "cell_type": "markdown",
      "metadata": {},
      "source": [
        "## Utils"
      ]
    },
    {
      "cell_type": "code",
      "execution_count": 26,
      "metadata": {},
      "outputs": [],
      "source": [
        "def calculate_building_area(rle_img_path):\n",
        "    \n",
        "    # 이미지 로드\n",
        "    image = cv2.imread(rle_img_path, cv2.IMREAD_GRAYSCALE)\n",
        "    \n",
        "    # 이미지의 너비와 높이를 가져옵니다.\n",
        "    height, width = image.shape\n",
        "\n",
        "    allPixel=0\n",
        "    white=0\n",
        "\n",
        "    # 이미지의 모든 픽셀을 순회하며 접근합니다.\n",
        "    for y in range(height):\n",
        "        for x in range(width):\n",
        "            # (x, y) 좌표의 픽셀 값을 가져옵니다.\n",
        "            pixel_value = image[y, x]\n",
        "\n",
        "            allPixel+=1\n",
        "            if pixel_value==255:\n",
        "                white+=1\n",
        "            else:\n",
        "                continue\n",
        "\n",
        "    # print(\"all_pixel:\",allPixel,\"building_pixel:\",white)\n",
        "\n",
        "    ratio = white / allPixel * 100.0\n",
        "\n",
        "    return ratio\n",
        "\n",
        "def rle_to_mask(rle, shape):\n",
        "    \"\"\"\n",
        "    RLE 형식의 마스크를 이미지로 변환하는 함수\n",
        "    :param rle: RLE 형식의 마스크\n",
        "    :param shape: 이미지의 형태 (높이, 너비)\n",
        "    :return: 변환된 이미지\n",
        "    \"\"\"\n",
        "    mask = np.zeros(shape[0] * shape[1], dtype=np.uint8)\n",
        "    rle_list = rle.split()\n",
        "    starts = rle_list[::2]\n",
        "    lengths = rle_list[1::2]\n",
        "\n",
        "    for start, length in zip(starts, lengths):\n",
        "        start = int(start) - 1\n",
        "        length = int(length)\n",
        "        mask[start:start + length] = 255\n",
        "\n",
        "    mask = mask.reshape((shape[0], shape[1]))\n",
        "    #픽셀값 범위조정\n",
        "    mask_image = Image.fromarray(mask, mode='L')\n",
        "\n",
        "    return mask_image\n",
        "\n",
        "def csv_to_mask_img(reader,image_path,save_path):\n",
        "    image_list=os.listdir(image_path)\n",
        "\n",
        "    cnt=0\n",
        "    for line in tqdm(reader):\n",
        "        # 1행은 넘김\n",
        "        if line[1]==\"img_path\":\n",
        "            continue\n",
        "        else:\n",
        "            image= cv2.imread(image_path+image_list[cnt], cv2.IMREAD_GRAYSCALE) #불러오기\n",
        "            rle=line[2]\n",
        "            h,w=image.shape\n",
        "            img_shape=(h,w)\n",
        "\n",
        "            # RLE 형식의 마스크를 이미지로 변환\n",
        "            mask_image = rle_to_mask(rle, img_shape)\n",
        "            \n",
        "            mask_image.save(f\"{save_path}{line[0]}.png\")\n",
        "\n",
        "        cnt+=1"
      ]
    },
    {
      "cell_type": "markdown",
      "metadata": {},
      "source": [
        "## Image in csv to destination folder"
      ]
    },
    {
      "cell_type": "code",
      "execution_count": 24,
      "metadata": {},
      "outputs": [
        {
          "name": "stderr",
          "output_type": "stream",
          "text": [
            "5712it [07:37, 12.49it/s]"
          ]
        },
        {
          "name": "stdout",
          "output_type": "stream",
          "text": [
            "이미지 복사 완료.\n"
          ]
        },
        {
          "name": "stderr",
          "output_type": "stream",
          "text": [
            "\n"
          ]
        }
      ],
      "source": [
        "csv_path=\"./train_80percent.csv\"\n",
        "\n",
        "# 이미지를 복사할 폴더 경로\n",
        "destination_folder = './train_img_80percent/'\n",
        "\n",
        "# CSV 파일 읽기\n",
        "df = pd.read_csv(csv_path)\n",
        "\n",
        "# 각 이미지에 대해 작업 수행\n",
        "for _, row in tqdm(df.iterrows()):\n",
        "    img_id = row['img_id']\n",
        "    img_path = row['img_path']\n",
        "\n",
        "    # 이미지를 목적지 폴더로 복사\n",
        "    destination_path = os.path.join(destination_folder, f'{img_id}.png')\n",
        "    shutil.copy(img_path, destination_path)\n",
        "\n",
        "# 작업 완료 메시지 출력\n",
        "print(\"이미지 복사 완료.\")"
      ]
    },
    {
      "cell_type": "markdown",
      "metadata": {},
      "source": [
        "## Image to RLE mask image"
      ]
    },
    {
      "cell_type": "code",
      "execution_count": 30,
      "metadata": {},
      "outputs": [
        {
          "name": "stderr",
          "output_type": "stream",
          "text": [
            "100%|██████████| 5713/5713 [03:45<00:00, 25.35it/s]\n"
          ]
        }
      ],
      "source": [
        "csv_file=\"./train_80percent.csv\"\n",
        "train_image_path=\"./train_img_80percent/\"\n",
        "rle_save_path=\"./rle_img_80percent/\"\n",
        "\n",
        "reader=[]\n",
        "# csv 파일 정보 접근\n",
        "if os.path.isfile(csv_file): # csv 파일 존재할때만 실행\n",
        "    with open(csv_file, 'r') as f: # csv 열기\n",
        "        reader = csv.reader(f) # csv 파일 읽기\n",
        "        reader=list(reader) # csv 파일 list로 변경\n",
        "\n",
        "    csv_to_mask_img(reader,train_image_path,rle_save_path)"
      ]
    },
    {
      "cell_type": "markdown",
      "metadata": {},
      "source": [
        "## Calculate Ratio "
      ]
    },
    {
      "cell_type": "code",
      "execution_count": 65,
      "metadata": {},
      "outputs": [
        {
          "name": "stderr",
          "output_type": "stream",
          "text": [
            "7140it [1:37:43,  1.22it/s]\n"
          ]
        }
      ],
      "source": [
        "# 이미지 경로 설정\n",
        "mask_folder_path = \"./rle_img/\"\n",
        "\n",
        "mask_list = os.listdir(mask_folder_path)\n",
        "\n",
        "area_count = [0] * 100\n",
        "\n",
        "# Parse the original CSV file\n",
        "with open('train.csv', 'r') as csv_file:\n",
        "    csv_reader = csv.reader(csv_file)\n",
        "    header = next(csv_reader)  # Skip the header row\n",
        "    # rows_to_keep_1percent = []\n",
        "    # rows_to_keep_2percent = []\n",
        "    # rows_to_keep_3percent = []\n",
        "    rows_to_keep_5percent = []\n",
        "    # rows_to_keep_8percent = []\n",
        "    # rows_to_keep_10percent = []\n",
        "    # rows_to_keep_6percent = []\n",
        "    # rows_to_keep_7percent = []\n",
        "\n",
        "    \n",
        "    for row in tqdm(csv_reader):\n",
        "        img_id, img_path, mask = row[0], row[1], row[2]\n",
        "\n",
        "        rle_mask_path=img_path.replace(\"train_img\",\"rle_img\")\n",
        "        # print(rle_mask_path)\n",
        "        ratio = calculate_building_area(rle_mask_path)\n",
        "        # print(\"rle mask path:\",rle_mask_path,\"ratio:\",ratio)\n",
        "\n",
        "        unit = int(ratio)\n",
        "        area_count[unit] += 1\n",
        "\n",
        "        # if unit>6:\n",
        "        #     rows_to_keep_6percent.append(row)\n",
        "        \n",
        "        # if unit>7:\n",
        "        #     rows_to_keep_7percent.append(row)\n",
        "\n",
        "\n",
        "        # if unit>1:\n",
        "        #     rows_to_keep_1percent.append(row)\n",
        "        \n",
        "        # if unit>2:\n",
        "        #     rows_to_keep_2percent.append(row)\n",
        "        \n",
        "        # if unit>3:\n",
        "        #     rows_to_keep_3percent.append(row)\n",
        "\n",
        "        if unit>5:\n",
        "            rows_to_keep_5percent.append(row)\n",
        "\n",
        "        # if unit>8:\n",
        "        #     rows_to_keep_8percent.append(row)\n",
        "\n",
        "        # if unit>10:\n",
        "        #     rows_to_keep_10percent.append(row)\n",
        "\n",
        "# print(\"각 면적당 이미지 개수:\", area_count)"
      ]
    },
    {
      "cell_type": "markdown",
      "metadata": {},
      "source": [
        "## Make New CSV File"
      ]
    },
    {
      "cell_type": "code",
      "execution_count": 66,
      "metadata": {},
      "outputs": [],
      "source": [
        "# csv_1percent_path = \"./train_img_except_1percent.csv\"\n",
        "# csv_2percent_path = \"./train_img_except_2percent.csv\"\n",
        "# csv_3percent_path = \"./train_img_except_3percent.csv\"\n",
        "csv_5percent_path = \"./train_all_img_except_5percent.csv\"\n",
        "# csv_8percent_path = \"./train_img_except_8percent.csv\"\n",
        "# csv_10percent_path = \"./train_img_except_10percent.csv\"\n",
        "\n",
        "# csv_6percent_path = \"./train_img_except_6percent.csv\"\n",
        "# csv_7percent_path = \"./train_img_except_7percent.csv\"\n",
        "\n",
        "# # Write the filtered rows to the new CSV file\n",
        "# with open(csv_6percent_path, 'w', newline='') as new_csv_file:\n",
        "#     csv_writer = csv.writer(new_csv_file)\n",
        "#     csv_writer.writerow(header)\n",
        "#     csv_writer.writerows(rows_to_keep_6percent)\n",
        "\n",
        "# # Write the filtered rows to the new CSV file\n",
        "# with open(csv_7percent_path, 'w', newline='') as new_csv_file:\n",
        "#     csv_writer = csv.writer(new_csv_file)\n",
        "#     csv_writer.writerow(header)\n",
        "#     csv_writer.writerows(rows_to_keep_7percent)\n",
        "\n",
        "\n",
        "# # Write the filtered rows to the new CSV file\n",
        "# with open(csv_1percent_path, 'w', newline='') as new_csv_file:\n",
        "#     csv_writer = csv.writer(new_csv_file)\n",
        "#     csv_writer.writerow(header)\n",
        "#     csv_writer.writerows(rows_to_keep_1percent)\n",
        "\n",
        "# # Write the filtered rows to the new CSV file\n",
        "# with open(csv_2percent_path, 'w', newline='') as new_csv_file:\n",
        "#     csv_writer = csv.writer(new_csv_file)\n",
        "#     csv_writer.writerow(header)\n",
        "#     csv_writer.writerows(rows_to_keep_2percent)\n",
        "\n",
        "# # Write the filtered rows to the new CSV file\n",
        "# with open(csv_3percent_path, 'w', newline='') as new_csv_file:\n",
        "#     csv_writer = csv.writer(new_csv_file)\n",
        "#     csv_writer.writerow(header)\n",
        "#     csv_writer.writerows(rows_to_keep_3percent)\n",
        "\n",
        "# Write the filtered rows to the new CSV file\n",
        "with open(csv_5percent_path, 'w', newline='') as new_csv_file:\n",
        "    csv_writer = csv.writer(new_csv_file)\n",
        "    csv_writer.writerow(header)\n",
        "    csv_writer.writerows(rows_to_keep_5percent)\n",
        "\n",
        "# # Write the filtered rows to the new CSV file\n",
        "# with open(csv_8percent_path, 'w', newline='') as new_csv_file:\n",
        "#     csv_writer = csv.writer(new_csv_file)\n",
        "#     csv_writer.writerow(header)\n",
        "#     csv_writer.writerows(rows_to_keep_8percent)\n",
        "\n",
        "# # Write the filtered rows to the new CSV file\n",
        "# with open(csv_10percent_path, 'w', newline='') as new_csv_file:\n",
        "#     csv_writer = csv.writer(new_csv_file)\n",
        "#     csv_writer.writerow(header)\n",
        "#     csv_writer.writerows(rows_to_keep_10percent)"
      ]
    },
    {
      "cell_type": "code",
      "execution_count": 69,
      "metadata": {},
      "outputs": [
        {
          "name": "stdout",
          "output_type": "stream",
          "text": [
            "[0, 1358, 905, 676, 673, 599, 586, 458, 416, 373, 268, 215, 166, 114, 94, 69, 38, 17, 23, 25, 9, 13, 9, 6, 6, 3, 5, 0, 2, 4, 1, 2, 0, 2, 1, 1, 0, 0, 0, 0, 1, 1, 0, 0, 0, 0, 0, 1, 0, 0, 0, 0, 0, 0, 0, 0, 0, 0, 0, 0, 0, 0, 0, 0, 0, 0, 0, 0, 0, 0, 0, 0, 0, 0, 0, 0, 0, 0, 0, 0, 0, 0, 0, 0, 0, 0, 0, 0, 0, 0, 0, 0, 0, 0, 0, 0, 0, 0, 0, 0]\n",
            "2929\n"
          ]
        }
      ],
      "source": [
        "print(area_count)\n",
        "print(len(rows_to_keep_5percent))"
      ]
    },
    {
      "cell_type": "code",
      "execution_count": 67,
      "metadata": {},
      "outputs": [
        {
          "name": "stdout",
          "output_type": "stream",
          "text": [
            "7140\n"
          ]
        }
      ],
      "source": [
        "cnt=0\n",
        "for i in area_count:\n",
        "    cnt+=i\n",
        "print(cnt)"
      ]
    },
    {
      "cell_type": "markdown",
      "metadata": {},
      "source": [
        "## Make Graph"
      ]
    },
    {
      "cell_type": "code",
      "execution_count": 48,
      "metadata": {},
      "outputs": [
        {
          "data": {
            "image/png": "[encoded data removed]",
            "text/plain": [
              "<Figure size 2500x600 with 1 Axes>"
            ]
          },
          "metadata": {},
          "output_type": "display_data"
        }
      ],
      "source": [
        "# # 그래프 그리기\n",
        "# x = range(0, 100, 1)\n",
        "# y = area_count\n",
        "\n",
        "# plt.bar(x, y)\n",
        "# plt.xlabel('Building Area (%)')\n",
        "# plt.ylabel('Number of Images')\n",
        "# plt.xticks(x)\n",
        "# plt.title('Building Area Distribution')\n",
        "# plt.show()\n",
        "\n",
        "plt.figure(figsize=(25, 6))  # 그래프의 크기를 조정합니다. (가로, 세로)\n",
        "\n",
        "x = range(0, 100, 1)\n",
        "y = area_count\n",
        "\n",
        "plt.bar(x, y)\n",
        "plt.xlabel('Building Area (%)')\n",
        "plt.ylabel('Number of Images')\n",
        "plt.xticks(x)\n",
        "plt.title('Building Area Distribution')\n",
        "plt.show()"
      ]
    }
  ],
  "metadata": {
    "anaconda-cloud": {},
    "kernelspec": {
      "display_name": "Python 3",
      "language": "python",
      "name": "python3"
    },
    "language_info": {
      "codemirror_mode": {
        "name": "ipython",
        "version": 3
      },
      "file_extension": ".py",
      "mimetype": "text/x-python",
      "name": "python",
      "nbconvert_exporter": "python",
      "pygments_lexer": "ipython3",
      "version": "3.9.16"
    }
  },
  "nbformat": 4,
  "nbformat_minor": 4
}
