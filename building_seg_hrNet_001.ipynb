{
 "cells": [
  {
   "cell_type": "code",
   "execution_count": 2,
   "metadata": {},
   "outputs": [
    {
     "ename": "ModuleNotFoundError",
     "evalue": "No module named 'hrnet'",
     "output_type": "error",
     "traceback": [
      "\u001b[1;31m---------------------------------------------------------------------------\u001b[0m",
      "\u001b[1;31mModuleNotFoundError\u001b[0m                       Traceback (most recent call last)",
      "Cell \u001b[1;32mIn[2], line 2\u001b[0m\n\u001b[0;32m      1\u001b[0m \u001b[39mimport\u001b[39;00m \u001b[39mtorch\u001b[39;00m\n\u001b[1;32m----> 2\u001b[0m \u001b[39mfrom\u001b[39;00m \u001b[39mhrnet\u001b[39;00m \u001b[39mimport\u001b[39;00m HRNet\n\u001b[0;32m      4\u001b[0m \u001b[39m# HRNet 모델의 기본 설정을 정의합니다.\u001b[39;00m\n\u001b[0;32m      5\u001b[0m hrnet_config \u001b[39m=\u001b[39m {\n\u001b[0;32m      6\u001b[0m     \u001b[39m'\u001b[39m\u001b[39mpretrained\u001b[39m\u001b[39m'\u001b[39m: \u001b[39mTrue\u001b[39;00m,  \u001b[39m# 사전 훈련된 가중치를 사용하려면 True로 설정합니다.\u001b[39;00m\n\u001b[0;32m      7\u001b[0m     \u001b[39m'\u001b[39m\u001b[39mnum_classes\u001b[39m\u001b[39m'\u001b[39m: \u001b[39m2\u001b[39m,    \u001b[39m# 건물과 배경 두 가지 클래스\u001b[39;00m\n\u001b[0;32m      8\u001b[0m     \u001b[39m'\u001b[39m\u001b[39mhrnet_type\u001b[39m\u001b[39m'\u001b[39m: \u001b[39m'\u001b[39m\u001b[39mhrnetv2_w18\u001b[39m\u001b[39m'\u001b[39m,\n\u001b[0;32m      9\u001b[0m }\n",
      "\u001b[1;31mModuleNotFoundError\u001b[0m: No module named 'hrnet'"
     ]
    }
   ],
   "source": [
    "import torch\n",
    "from hrnet import HRNet\n",
    "\n",
    "# HRNet 모델의 기본 설정을 정의합니다.\n",
    "hrnet_config = {\n",
    "    'pretrained': True,  # 사전 훈련된 가중치를 사용하려면 True로 설정합니다.\n",
    "    'num_classes': 2,    # 건물과 배경 두 가지 클래스\n",
    "    'hrnet_type': 'hrnetv2_w18',\n",
    "}\n",
    "\n",
    "# HRNet 모델을 생성합니다. 사전 훈련된 가중치를 자동으로 불러옵니다.\n",
    "model = HRNet(hrnet_config)\n",
    "\n",
    "# 모델을 평가 모드로 전환합니다.\n",
    "model.eval()\n",
    "\n",
    "# 여기서부터 추론을 수행하거나 건물 영역 분할 작업을 진행할 수 있습니다.\n",
    "# 추론 작업의 경우, 새로운 입력 이미지를 사용하여 모델에 전달하여 예측값을 얻을 수 있습니다.\n"
   ]
  }
 ],
 "metadata": {
  "kernelspec": {
   "display_name": "tensorflow",
   "language": "python",
   "name": "python3"
  },
  "language_info": {
   "codemirror_mode": {
    "name": "ipython",
    "version": 3
   },
   "file_extension": ".py",
   "mimetype": "text/x-python",
   "name": "python",
   "nbconvert_exporter": "python",
   "pygments_lexer": "ipython3",
   "version": "3.9.16"
  },
  "orig_nbformat": 4
 },
 "nbformat": 4,
 "nbformat_minor": 2
}
